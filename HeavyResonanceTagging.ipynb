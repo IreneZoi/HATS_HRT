{
 "cells": [
  {
   "cell_type": "markdown",
   "id": "db848c2a-c12d-4987-8c44-1b1e5023e84f",
   "metadata": {},
   "source": [
    "# Signal files\n",
    "First let's look at the available signal files\n",
    "\n",
    "You can to this by running the command in the terminal:\n",
    "\n",
    "`eosls /store/user/cmsdas/2025/short_exercises/tagging/` # for EAF\n",
    "\n",
    "`xrdfs root://cmseos.fnal.gov ls /store/user/cmsdas/2025/short_exercises/tagging/` # for SWAN\n",
    "\n",
    "\n",
    "You will find the following signal files:\n",
    "- BulkGravToZZ_tree.root\n",
    "- BulkGravTohh_tree.root\n",
    "- ZprimeToTT_tree.root\n",
    "- ZprimeToWW_tree.root\n",
    "\n",
    "And QCD bacqground: \n",
    "- qcd-pythia_tree_SLIM.root\n"
   ]
  },
  {
   "cell_type": "markdown",
   "id": "13a15c7b-08cb-4f71-9db1-e9ca0584d10d",
   "metadata": {},
   "source": [
    "# Let's start the exercise!\n",
    "Open the file with `uproot` and convert the tree to a `pandas` dataframe.\n",
    "\n",
    "We will start using the `BulkGravTohh` signal file but you can repeat the exercise with a different signal later."
   ]
  },
  {
   "cell_type": "code",
   "execution_count": 1,
   "id": "2a1ccc02-02ec-4762-9a78-63fca15999da",
   "metadata": {},
   "outputs": [
    {
     "name": "stdout",
     "output_type": "stream",
     "text": [
      "get hh\n",
      "get QCD\n"
     ]
    }
   ],
   "source": [
    "import uproot\n",
    "\n",
    "filename_hh = 'root://cmseos.fnal.gov//store/user/cmsdas/2024/short_exercises/tagging/BulkGravTohh_tree.root'\n",
    "filename_qcd = 'root://cmseos.fnal.gov//store/user/cmsdas/2024/short_exercises/tagging/qcd-pythia_tree_SLIM.root'\n",
    "\n",
    "uptree_hh = uproot.open(filename_hh)[\"Friends\"]\n",
    "uptree_qcd = uproot.open(filename_qcd)[\"Friends\"]\n",
    "\n",
    "branches = ['ak8_nn_HbbvsQCD',            # tagger DeepAK8\n",
    "            'ak8_decorr_nn_ZHbbvsQCD',    # tagger DeepAK8-MD\n",
    "            'ak8_doubleb',                # tagger\n",
    "            'ak8_tau21',                  # tagger\n",
    "            'ak8_ecfN2',                  # tagger\n",
    "            'ak8_bestH',                  # tagger\n",
    "            'ak8_sdmass',                 # tagger\n",
    "            'ak8_pt',\n",
    "            'ak8_eta',\n",
    "            'gen_pt',\n",
    "            'gen_eta']\n",
    "\n",
    "\n",
    "print(\"get hh\")\n",
    "df_hh = uptree_hh.arrays(branches+['rewgt'], library=\"pd\")\n",
    "# print(df_hh)\n",
    "\n",
    "print(\"get QCD\")\n",
    "df_qcd = uptree_qcd.arrays(branches+['genweight'], library=\"pd\")\n",
    "# print(df_qcd)"
   ]
  },
  {
   "cell_type": "markdown",
   "id": "cdcb18f0-f964-4e3d-818d-b9a9aadc4542",
   "metadata": {},
   "source": [
    "# Apply basic selections"
   ]
  },
  {
   "cell_type": "code",
   "execution_count": 2,
   "id": "744268e1-aa09-486f-848f-2b8383e8a7a6",
   "metadata": {},
   "outputs": [],
   "source": [
    "import pandas\n",
    "import numpy as np\n",
    "\n",
    "# mask higgs outside of fiducial cuts\n",
    "mask_hh = (df_hh['gen_pt'] > 1000) & (df_hh['gen_pt'] < 1500) & (np.abs(df_hh['gen_eta']) < 2.4) & (df_hh['ak8_sdmass'] > 40) & (df_hh['ak8_sdmass'] < 200)\n",
    "df_hh = df_hh[mask_hh]\n",
    "df_hh['sample_weight'] = df_hh['rewgt']\n",
    "df_hh['label'] = np.ones((len(df_hh)),dtype=int)\n",
    "\n",
    "# mask qcd outside of fiducial cuts\n",
    "mask_qcd = (df_qcd['gen_pt'] > 1000) & (df_qcd['gen_pt'] < 1500) & (np.abs(df_qcd['gen_eta']) < 2.4) & (df_qcd['ak8_sdmass'] > 40) & (df_qcd['ak8_sdmass'] < 200)\n",
    "df_qcd = df_qcd[mask_qcd]\n",
    "df_qcd['sample_weight'] = df_qcd['genweight']\n",
    "df_qcd['label'] = np.zeros((len(df_qcd)),dtype=int)"
   ]
  },
  {
   "cell_type": "markdown",
   "id": "a9ba3c88-336c-44b5-82b9-7acf79bb4603",
   "metadata": {},
   "source": [
    "# Let's plot the taggers for QCD and signal"
   ]
  },
  {
   "cell_type": "code",
   "execution_count": 3,
   "id": "b19b923e-e804-43e9-a577-a809e75200b0",
   "metadata": {},
   "outputs": [
    {
     "data": {
      "image/png": "[encoded data removed]",
      "text/plain": [
       "<Figure size 432x288 with 1 Axes>"
      ]
     },
     "metadata": {
      "needs_background": "light"
     },
     "output_type": "display_data"
    }
   ],
   "source": [
    "import matplotlib.pyplot as plt\n",
    "\n",
    "plt.hist(df_hh['ak8_nn_HbbvsQCD'], bins=50, alpha=0.7, label='hh', histtype='step')\n",
    "plt.hist(df_qcd['ak8_nn_HbbvsQCD'], bins=50, alpha=0.7, label='qcd', histtype='step')\n",
    "plt.xlabel('ak8_nn_HbbvsQCD')\n",
    "plt.yscale('log')\n",
    "plt.legend()\n",
    "plt.show()\n"
   ]
  },
  {
   "cell_type": "markdown",
   "id": "3197d007-12ce-4623-9b3e-d6c9b2a65544",
   "metadata": {},
   "source": [
    "# Concatenate signal and background\n",
    "This is needed in the following"
   ]
  },
  {
   "cell_type": "code",
   "execution_count": 4,
   "id": "2e280173-c1a7-4046-9706-a4373a9f8d9f",
   "metadata": {},
   "outputs": [
    {
     "data": {
      "text/html": [
       "<div>\n",
       "<style scoped>\n",
       "    .dataframe tbody tr th:only-of-type {\n",
       "        vertical-align: middle;\n",
       "    }\n",
       "\n",
       "    .dataframe tbody tr th {\n",
       "        vertical-align: top;\n",
       "    }\n",
       "\n",
       "    .dataframe thead th {\n",
       "        text-align: right;\n",
       "    }\n",
       "</style>\n",
       "<table border=\"1\" class=\"dataframe\">\n",
       "  <thead>\n",
       "    <tr style=\"text-align: right;\">\n",
       "      <th></th>\n",
       "      <th>ak8_nn_HbbvsQCD</th>\n",
       "      <th>ak8_decorr_nn_ZHbbvsQCD</th>\n",
       "      <th>ak8_doubleb</th>\n",
       "      <th>ak8_tau21</th>\n",
       "      <th>ak8_ecfN2</th>\n",
       "      <th>ak8_bestH</th>\n",
       "      <th>ak8_sdmass</th>\n",
       "      <th>ak8_pt</th>\n",
       "      <th>ak8_eta</th>\n",
       "      <th>gen_pt</th>\n",
       "      <th>gen_eta</th>\n",
       "      <th>rewgt</th>\n",
       "      <th>sample_weight</th>\n",
       "      <th>label</th>\n",
       "      <th>genweight</th>\n",
       "    </tr>\n",
       "  </thead>\n",
       "  <tbody>\n",
       "    <tr>\n",
       "      <th>71</th>\n",
       "      <td>0.997910</td>\n",
       "      <td>0.966018</td>\n",
       "      <td>0.639648</td>\n",
       "      <td>0.312356</td>\n",
       "      <td>0.237549</td>\n",
       "      <td>0.968759</td>\n",
       "      <td>114.324455</td>\n",
       "      <td>943.5</td>\n",
       "      <td>0.473999</td>\n",
       "      <td>1036.0</td>\n",
       "      <td>0.459961</td>\n",
       "      <td>0.003346</td>\n",
       "      <td>3.346120e-03</td>\n",
       "      <td>1</td>\n",
       "      <td>NaN</td>\n",
       "    </tr>\n",
       "    <tr>\n",
       "      <th>155</th>\n",
       "      <td>0.991485</td>\n",
       "      <td>0.984800</td>\n",
       "      <td>0.410645</td>\n",
       "      <td>0.629371</td>\n",
       "      <td>0.277100</td>\n",
       "      <td>0.045536</td>\n",
       "      <td>70.636497</td>\n",
       "      <td>1224.0</td>\n",
       "      <td>-0.284180</td>\n",
       "      <td>1416.0</td>\n",
       "      <td>-0.282227</td>\n",
       "      <td>0.000380</td>\n",
       "      <td>3.804002e-04</td>\n",
       "      <td>1</td>\n",
       "      <td>NaN</td>\n",
       "    </tr>\n",
       "    <tr>\n",
       "      <th>276</th>\n",
       "      <td>0.998709</td>\n",
       "      <td>0.902522</td>\n",
       "      <td>-0.010880</td>\n",
       "      <td>0.182233</td>\n",
       "      <td>0.177124</td>\n",
       "      <td>0.312264</td>\n",
       "      <td>139.366959</td>\n",
       "      <td>1187.0</td>\n",
       "      <td>0.049248</td>\n",
       "      <td>1120.0</td>\n",
       "      <td>0.045898</td>\n",
       "      <td>0.001986</td>\n",
       "      <td>1.986259e-03</td>\n",
       "      <td>1</td>\n",
       "      <td>NaN</td>\n",
       "    </tr>\n",
       "    <tr>\n",
       "      <th>843</th>\n",
       "      <td>0.998738</td>\n",
       "      <td>0.956193</td>\n",
       "      <td>0.919434</td>\n",
       "      <td>0.292515</td>\n",
       "      <td>0.231079</td>\n",
       "      <td>0.981281</td>\n",
       "      <td>122.679993</td>\n",
       "      <td>957.5</td>\n",
       "      <td>0.962158</td>\n",
       "      <td>1022.0</td>\n",
       "      <td>0.958984</td>\n",
       "      <td>0.003346</td>\n",
       "      <td>3.346120e-03</td>\n",
       "      <td>1</td>\n",
       "      <td>NaN</td>\n",
       "    </tr>\n",
       "    <tr>\n",
       "      <th>1680</th>\n",
       "      <td>0.997370</td>\n",
       "      <td>0.995647</td>\n",
       "      <td>0.356201</td>\n",
       "      <td>0.584867</td>\n",
       "      <td>0.327881</td>\n",
       "      <td>0.163290</td>\n",
       "      <td>71.869606</td>\n",
       "      <td>1044.0</td>\n",
       "      <td>0.221252</td>\n",
       "      <td>1132.0</td>\n",
       "      <td>0.230469</td>\n",
       "      <td>0.001986</td>\n",
       "      <td>1.986259e-03</td>\n",
       "      <td>1</td>\n",
       "      <td>NaN</td>\n",
       "    </tr>\n",
       "    <tr>\n",
       "      <th>...</th>\n",
       "      <td>...</td>\n",
       "      <td>...</td>\n",
       "      <td>...</td>\n",
       "      <td>...</td>\n",
       "      <td>...</td>\n",
       "      <td>...</td>\n",
       "      <td>...</td>\n",
       "      <td>...</td>\n",
       "      <td>...</td>\n",
       "      <td>...</td>\n",
       "      <td>...</td>\n",
       "      <td>...</td>\n",
       "      <td>...</td>\n",
       "      <td>...</td>\n",
       "      <td>...</td>\n",
       "    </tr>\n",
       "    <tr>\n",
       "      <th>1612709</th>\n",
       "      <td>0.032039</td>\n",
       "      <td>0.013714</td>\n",
       "      <td>-0.808594</td>\n",
       "      <td>0.367254</td>\n",
       "      <td>0.233032</td>\n",
       "      <td>0.010093</td>\n",
       "      <td>148.619888</td>\n",
       "      <td>881.0</td>\n",
       "      <td>-0.100525</td>\n",
       "      <td>1232.0</td>\n",
       "      <td>-0.031982</td>\n",
       "      <td>NaN</td>\n",
       "      <td>3.253174e-12</td>\n",
       "      <td>0</td>\n",
       "      <td>3.253174e-12</td>\n",
       "    </tr>\n",
       "    <tr>\n",
       "      <th>1612719</th>\n",
       "      <td>0.000976</td>\n",
       "      <td>0.044383</td>\n",
       "      <td>-0.832031</td>\n",
       "      <td>0.362534</td>\n",
       "      <td>0.254883</td>\n",
       "      <td>0.018189</td>\n",
       "      <td>165.783401</td>\n",
       "      <td>1306.0</td>\n",
       "      <td>0.486206</td>\n",
       "      <td>1104.0</td>\n",
       "      <td>0.117920</td>\n",
       "      <td>NaN</td>\n",
       "      <td>6.240069e-12</td>\n",
       "      <td>0</td>\n",
       "      <td>6.240069e-12</td>\n",
       "    </tr>\n",
       "    <tr>\n",
       "      <th>1612754</th>\n",
       "      <td>0.027902</td>\n",
       "      <td>0.048464</td>\n",
       "      <td>-0.942871</td>\n",
       "      <td>0.538784</td>\n",
       "      <td>0.324951</td>\n",
       "      <td>0.006457</td>\n",
       "      <td>152.791931</td>\n",
       "      <td>909.5</td>\n",
       "      <td>0.846069</td>\n",
       "      <td>1304.0</td>\n",
       "      <td>1.121094</td>\n",
       "      <td>NaN</td>\n",
       "      <td>2.333564e-12</td>\n",
       "      <td>0</td>\n",
       "      <td>2.333564e-12</td>\n",
       "    </tr>\n",
       "    <tr>\n",
       "      <th>1612803</th>\n",
       "      <td>0.001519</td>\n",
       "      <td>0.000999</td>\n",
       "      <td>-0.928711</td>\n",
       "      <td>0.628799</td>\n",
       "      <td>0.363770</td>\n",
       "      <td>0.016806</td>\n",
       "      <td>77.016121</td>\n",
       "      <td>1299.0</td>\n",
       "      <td>0.860229</td>\n",
       "      <td>1348.0</td>\n",
       "      <td>0.851562</td>\n",
       "      <td>NaN</td>\n",
       "      <td>1.905873e-12</td>\n",
       "      <td>0</td>\n",
       "      <td>1.905873e-12</td>\n",
       "    </tr>\n",
       "    <tr>\n",
       "      <th>1612804</th>\n",
       "      <td>0.000526</td>\n",
       "      <td>0.000349</td>\n",
       "      <td>-0.976074</td>\n",
       "      <td>0.574737</td>\n",
       "      <td>0.284424</td>\n",
       "      <td>0.022714</td>\n",
       "      <td>98.685455</td>\n",
       "      <td>1310.0</td>\n",
       "      <td>0.153229</td>\n",
       "      <td>1384.0</td>\n",
       "      <td>0.111084</td>\n",
       "      <td>NaN</td>\n",
       "      <td>1.625224e-12</td>\n",
       "      <td>0</td>\n",
       "      <td>1.625224e-12</td>\n",
       "    </tr>\n",
       "  </tbody>\n",
       "</table>\n",
       "<p>254175 rows × 15 columns</p>\n",
       "</div>"
      ],
      "text/plain": [
       "         ak8_nn_HbbvsQCD  ak8_decorr_nn_ZHbbvsQCD  ak8_doubleb  ak8_tau21  \\\n",
       "71              0.997910                 0.966018     0.639648   0.312356   \n",
       "155             0.991485                 0.984800     0.410645   0.629371   \n",
       "276             0.998709                 0.902522    -0.010880   0.182233   \n",
       "843             0.998738                 0.956193     0.919434   0.292515   \n",
       "1680            0.997370                 0.995647     0.356201   0.584867   \n",
       "...                  ...                      ...          ...        ...   \n",
       "1612709         0.032039                 0.013714    -0.808594   0.367254   \n",
       "1612719         0.000976                 0.044383    -0.832031   0.362534   \n",
       "1612754         0.027902                 0.048464    -0.942871   0.538784   \n",
       "1612803         0.001519                 0.000999    -0.928711   0.628799   \n",
       "1612804         0.000526                 0.000349    -0.976074   0.574737   \n",
       "\n",
       "         ak8_ecfN2  ak8_bestH  ak8_sdmass  ak8_pt   ak8_eta  gen_pt   gen_eta  \\\n",
       "71        0.237549   0.968759  114.324455   943.5  0.473999  1036.0  0.459961   \n",
       "155       0.277100   0.045536   70.636497  1224.0 -0.284180  1416.0 -0.282227   \n",
       "276       0.177124   0.312264  139.366959  1187.0  0.049248  1120.0  0.045898   \n",
       "843       0.231079   0.981281  122.679993   957.5  0.962158  1022.0  0.958984   \n",
       "1680      0.327881   0.163290   71.869606  1044.0  0.221252  1132.0  0.230469   \n",
       "...            ...        ...         ...     ...       ...     ...       ...   \n",
       "1612709   0.233032   0.010093  148.619888   881.0 -0.100525  1232.0 -0.031982   \n",
       "1612719   0.254883   0.018189  165.783401  1306.0  0.486206  1104.0  0.117920   \n",
       "1612754   0.324951   0.006457  152.791931   909.5  0.846069  1304.0  1.121094   \n",
       "1612803   0.363770   0.016806   77.016121  1299.0  0.860229  1348.0  0.851562   \n",
       "1612804   0.284424   0.022714   98.685455  1310.0  0.153229  1384.0  0.111084   \n",
       "\n",
       "            rewgt  sample_weight  label     genweight  \n",
       "71       0.003346   3.346120e-03      1           NaN  \n",
       "155      0.000380   3.804002e-04      1           NaN  \n",
       "276      0.001986   1.986259e-03      1           NaN  \n",
       "843      0.003346   3.346120e-03      1           NaN  \n",
       "1680     0.001986   1.986259e-03      1           NaN  \n",
       "...           ...            ...    ...           ...  \n",
       "1612709       NaN   3.253174e-12      0  3.253174e-12  \n",
       "1612719       NaN   6.240069e-12      0  6.240069e-12  \n",
       "1612754       NaN   2.333564e-12      0  2.333564e-12  \n",
       "1612803       NaN   1.905873e-12      0  1.905873e-12  \n",
       "1612804       NaN   1.625224e-12      0  1.625224e-12  \n",
       "\n",
       "[254175 rows x 15 columns]"
      ]
     },
     "execution_count": 4,
     "metadata": {},
     "output_type": "execute_result"
    }
   ],
   "source": [
    "df = pandas.concat([df_hh,df_qcd])\n",
    "\n",
    "df"
   ]
  },
  {
   "cell_type": "markdown",
   "id": "24cf9fef-c6bb-4bab-bdf1-c16733e5bea4",
   "metadata": {},
   "source": [
    "# Tagger performance\n",
    "\n",
    "Plot the ROC and calculate the area under it for one of the tagging variables. We'll plot the true-positive rate (TPR) vs. the false-positive rate (FPR)."
   ]
  },
  {
   "cell_type": "code",
   "execution_count": 5,
   "id": "b99cfba3-af21-479f-990e-a7f2e090df84",
   "metadata": {},
   "outputs": [
    {
     "data": {
      "image/png": "[encoded data removed]",
      "text/plain": [
       "<Figure size 432x288 with 1 Axes>"
      ]
     },
     "metadata": {
      "needs_background": "light"
     },
     "output_type": "display_data"
    }
   ],
   "source": [
    "import matplotlib.pyplot as plt\n",
    "from sklearn.metrics import roc_curve, auc\n",
    "%matplotlib inline\n",
    "fpr = {}\n",
    "tpr = {}\n",
    "threshold = {}\n",
    "plt.figure()\n",
    "\n",
    "tagger = 'ak8_sdmass'\n",
    "fpr[tagger], tpr[tagger], threshold[tagger] = roc_curve(df['label'], df[tagger], sample_weight=df['sample_weight'])\n",
    "myauc = auc(fpr[tagger], tpr[tagger]) #,reorder=True)\n",
    "plt.plot(tpr[tagger],fpr[tagger],label='%s tagger, AUC = %.3f'%(tagger, myauc))\n",
    "\n",
    "plt.legend(loc='best')\n",
    "plt.semilogy()\n",
    "plt.xlim([0, 1])\n",
    "plt.ylim([1e-4, 1])\n",
    "plt.xlabel(\"TPR\");\n",
    "plt.ylabel(\"FPR\");"
   ]
  },
  {
   "cell_type": "markdown",
   "id": "7315922f-2203-4a31-a072-0a3d2092ca98",
   "metadata": {},
   "source": [
    "# Train your own tagger"
   ]
  },
  {
   "cell_type": "code",
   "execution_count": 6,
   "id": "48d5e6fc-7fb4-4109-93cb-9c58f7d71eea",
   "metadata": {},
   "outputs": [
    {
     "name": "stderr",
     "output_type": "stream",
     "text": [
      "2025-01-03 22:18:19.497670: I tensorflow/core/util/port.cc:113] oneDNN custom operations are on. You may see slightly different numerical results due to floating-point round-off errors from different computation orders. To turn them off, set the environment variable `TF_ENABLE_ONEDNN_OPTS=0`.\n",
      "2025-01-03 22:18:22.756110: I tensorflow/core/platform/cpu_feature_guard.cc:210] This TensorFlow binary is optimized to use available CPU instructions in performance-critical operations.\n",
      "To enable the following instructions: AVX2 AVX512F AVX512_VNNI FMA, in other operations, rebuild TensorFlow with the appropriate compiler flags.\n"
     ]
    },
    {
     "data": {
      "text/html": [
       "<pre style=\"white-space:pre;overflow-x:auto;line-height:normal;font-family:Menlo,'DejaVu Sans Mono',consolas,'Courier New',monospace\"><span style=\"font-weight: bold\">Model: \"functional_1\"</span>\n",
       "</pre>\n"
      ],
      "text/plain": [
       "\u001b[1mModel: \"functional_1\"\u001b[0m\n"
      ]
     },
     "metadata": {},
     "output_type": "display_data"
    },
    {
     "data": {
      "text/html": [
       "<pre style=\"white-space:pre;overflow-x:auto;line-height:normal;font-family:Menlo,'DejaVu Sans Mono',consolas,'Courier New',monospace\">┏━━━━━━━━━━━━━━━━━━━━━━━━━━━━━━━━━┳━━━━━━━━━━━━━━━━━━━━━━━━┳━━━━━━━━━━━━━━━┓\n",
       "┃<span style=\"font-weight: bold\"> Layer (type)                    </span>┃<span style=\"font-weight: bold\"> Output Shape           </span>┃<span style=\"font-weight: bold\">       Param # </span>┃\n",
       "┡━━━━━━━━━━━━━━━━━━━━━━━━━━━━━━━━━╇━━━━━━━━━━━━━━━━━━━━━━━━╇━━━━━━━━━━━━━━━┩\n",
       "│ input (<span style=\"color: #0087ff; text-decoration-color: #0087ff\">InputLayer</span>)              │ (<span style=\"color: #00d7ff; text-decoration-color: #00d7ff\">None</span>, <span style=\"color: #00af00; text-decoration-color: #00af00\">2</span>)              │             <span style=\"color: #00af00; text-decoration-color: #00af00\">0</span> │\n",
       "├─────────────────────────────────┼────────────────────────┼───────────────┤\n",
       "│ dense_1 (<span style=\"color: #0087ff; text-decoration-color: #0087ff\">Dense</span>)                 │ (<span style=\"color: #00d7ff; text-decoration-color: #00d7ff\">None</span>, <span style=\"color: #00af00; text-decoration-color: #00af00\">5</span>)              │            <span style=\"color: #00af00; text-decoration-color: #00af00\">15</span> │\n",
       "├─────────────────────────────────┼────────────────────────┼───────────────┤\n",
       "│ output (<span style=\"color: #0087ff; text-decoration-color: #0087ff\">Dense</span>)                  │ (<span style=\"color: #00d7ff; text-decoration-color: #00d7ff\">None</span>, <span style=\"color: #00af00; text-decoration-color: #00af00\">1</span>)              │             <span style=\"color: #00af00; text-decoration-color: #00af00\">6</span> │\n",
       "└─────────────────────────────────┴────────────────────────┴───────────────┘\n",
       "</pre>\n"
      ],
      "text/plain": [
       "┏━━━━━━━━━━━━━━━━━━━━━━━━━━━━━━━━━┳━━━━━━━━━━━━━━━━━━━━━━━━┳━━━━━━━━━━━━━━━┓\n",
       "┃\u001b[1m \u001b[0m\u001b[1mLayer (type)                   \u001b[0m\u001b[1m \u001b[0m┃\u001b[1m \u001b[0m\u001b[1mOutput Shape          \u001b[0m\u001b[1m \u001b[0m┃\u001b[1m \u001b[0m\u001b[1m      Param #\u001b[0m\u001b[1m \u001b[0m┃\n",
       "┡━━━━━━━━━━━━━━━━━━━━━━━━━━━━━━━━━╇━━━━━━━━━━━━━━━━━━━━━━━━╇━━━━━━━━━━━━━━━┩\n",
       "│ input (\u001b[38;5;33mInputLayer\u001b[0m)              │ (\u001b[38;5;45mNone\u001b[0m, \u001b[38;5;34m2\u001b[0m)              │             \u001b[38;5;34m0\u001b[0m │\n",
       "├─────────────────────────────────┼────────────────────────┼───────────────┤\n",
       "│ dense_1 (\u001b[38;5;33mDense\u001b[0m)                 │ (\u001b[38;5;45mNone\u001b[0m, \u001b[38;5;34m5\u001b[0m)              │            \u001b[38;5;34m15\u001b[0m │\n",
       "├─────────────────────────────────┼────────────────────────┼───────────────┤\n",
       "│ output (\u001b[38;5;33mDense\u001b[0m)                  │ (\u001b[38;5;45mNone\u001b[0m, \u001b[38;5;34m1\u001b[0m)              │             \u001b[38;5;34m6\u001b[0m │\n",
       "└─────────────────────────────────┴────────────────────────┴───────────────┘\n"
      ]
     },
     "metadata": {},
     "output_type": "display_data"
    },
    {
     "data": {
      "text/html": [
       "<pre style=\"white-space:pre;overflow-x:auto;line-height:normal;font-family:Menlo,'DejaVu Sans Mono',consolas,'Courier New',monospace\"><span style=\"font-weight: bold\"> Total params: </span><span style=\"color: #00af00; text-decoration-color: #00af00\">21</span> (84.00 B)\n",
       "</pre>\n"
      ],
      "text/plain": [
       "\u001b[1m Total params: \u001b[0m\u001b[38;5;34m21\u001b[0m (84.00 B)\n"
      ]
     },
     "metadata": {},
     "output_type": "display_data"
    },
    {
     "data": {
      "text/html": [
       "<pre style=\"white-space:pre;overflow-x:auto;line-height:normal;font-family:Menlo,'DejaVu Sans Mono',consolas,'Courier New',monospace\"><span style=\"font-weight: bold\"> Trainable params: </span><span style=\"color: #00af00; text-decoration-color: #00af00\">21</span> (84.00 B)\n",
       "</pre>\n"
      ],
      "text/plain": [
       "\u001b[1m Trainable params: \u001b[0m\u001b[38;5;34m21\u001b[0m (84.00 B)\n"
      ]
     },
     "metadata": {},
     "output_type": "display_data"
    },
    {
     "data": {
      "text/html": [
       "<pre style=\"white-space:pre;overflow-x:auto;line-height:normal;font-family:Menlo,'DejaVu Sans Mono',consolas,'Courier New',monospace\"><span style=\"font-weight: bold\"> Non-trainable params: </span><span style=\"color: #00af00; text-decoration-color: #00af00\">0</span> (0.00 B)\n",
       "</pre>\n"
      ],
      "text/plain": [
       "\u001b[1m Non-trainable params: \u001b[0m\u001b[38;5;34m0\u001b[0m (0.00 B)\n"
      ]
     },
     "metadata": {},
     "output_type": "display_data"
    }
   ],
   "source": [
    "import keras\n",
    "from keras.models import Model\n",
    "from keras.layers import Input, Activation, Dense\n",
    "import numpy as np\n",
    "\n",
    "inputs = Input(shape=(2,), name = 'input')  \n",
    "x = Dense(5, name = 'dense_1', activation = 'relu')(inputs)\n",
    "outputs = Dense(1, name = 'output', activation='sigmoid')(x)\n",
    "\n",
    "# create the model\n",
    "model = Model(inputs=inputs, outputs=outputs)\n",
    "# compile the model\n",
    "model.compile(optimizer='adam', loss='binary_crossentropy', metrics=['accuracy'])\n",
    "# print the model summary\n",
    "model.summary()\n",
    "\n",
    "\n",
    "### IGNORE THE RED WARNINGS!!!!"
   ]
  },
  {
   "cell_type": "code",
   "execution_count": 7,
   "id": "07ebabe3-dad4-4cab-b364-570ee00c0d4c",
   "metadata": {},
   "outputs": [
    {
     "name": "stdout",
     "output_type": "stream",
     "text": [
      "(254175, 2)\n",
      "(254175,)\n",
      "\u001b[1m7943/7943\u001b[0m \u001b[32m━━━━━━━━━━━━━━━━━━━━\u001b[0m\u001b[37m\u001b[0m \u001b[1m10s\u001b[0m 1ms/step - accuracy: 0.7220 - loss: 1.6510\n",
      "\u001b[1m7943/7943\u001b[0m \u001b[32m━━━━━━━━━━━━━━━━━━━━\u001b[0m\u001b[37m\u001b[0m \u001b[1m6s\u001b[0m 808us/step\n"
     ]
    }
   ],
   "source": [
    "x = np.vstack([df['ak8_sdmass'], df['ak8_tau21']]).T\n",
    "print(x.shape)\n",
    "y = df['label']\n",
    "print(y.shape)\n",
    "model.fit(x,y, epochs=1)\n",
    "df['ak8_sdmass_tau21'] = model.predict(x)"
   ]
  },
  {
   "cell_type": "code",
   "execution_count": null,
   "id": "c663b20e-5ab5-4480-9b24-4b9c45263d0f",
   "metadata": {},
   "outputs": [],
   "source": [
    "# now plot the ROC curve and calculate the AUC for this new ak8_sdmass_tau21 tagger"
   ]
  },
  {
   "cell_type": "markdown",
   "id": "fd7552f3-2022-4e74-82e1-fca9d16868bd",
   "metadata": {},
   "source": [
    "# Exercises\n",
    "\n",
    "- Exercise 1: Plot all of the taggers on the same ROC curve\n",
    "- Exercise 2 [done above, feel free to improve/play around]: Train your own custom \"traditional\" tagger based on mSD and tau21\n",
    "- Exercise 3: Add your tagger to the ROC curve\n",
    "- Exercise 4: Repeat with a different signal sample (W, Z, or top)\n",
    "- Exercise 5 [advanced]: Understand the impact of different sets of inputs in the jet classification problem\n",
    "- Exercise 6 [extra]: Look at the 'ak8_sdmass' distribution of signal and background after applying different cuts on the other taggers. Thoughts, ideas, concerns ?"
   ]
  },
  {
   "cell_type": "code",
   "execution_count": null,
   "id": "b150cc31-d82a-40c4-885f-bb9c1393ba32",
   "metadata": {},
   "outputs": [],
   "source": []
  }
 ],
 "metadata": {
  "@webio": {
   "lastCommId": null,
   "lastKernelId": null
  },
  "kernelspec": {
   "display_name": "Python 3",
   "language": "python",
   "name": "python3"
  },
  "language_info": {
   "codemirror_mode": {
    "name": "ipython",
    "version": 3
   },
   "file_extension": ".py",
   "mimetype": "text/x-python",
   "name": "python",
   "nbconvert_exporter": "python",
   "pygments_lexer": "ipython3",
   "version": "3.11.9"
  }
 },
 "nbformat": 4,
 "nbformat_minor": 5
}
