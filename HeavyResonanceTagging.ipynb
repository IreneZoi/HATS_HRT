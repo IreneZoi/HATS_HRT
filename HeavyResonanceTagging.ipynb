{
 "cells": [
  {
   "cell_type": "markdown",
   "id": "db848c2a-c12d-4987-8c44-1b1e5023e84f",
   "metadata": {},
   "source": [
    "# Signal files\n",
    "First let's look at the available signal files\n",
    "\n",
    "You can to this by running the command in the terminal:\n",
    "\n",
    "`eosls /store/user/cmsdas/2024/short_exercises/tagging/`\n",
    "\n",
    "You will find the following signal files:\n",
    "- BulkGravToZZ_tree.root\n",
    "- BulkGravTohh_tree.root\n",
    "- BulkGravTohh_tree_noc.root\n",
    "- ZprimeToTT_tree.root\n",
    "- ZprimeToWW_tree.root\n",
    "\n",
    "And QCD bacqground: \n",
    "- qcd-pythia_tree.root\n",
    "- qcd-pythia_tree_SLIM.root\n",
    "- qcd-pythia_tree_noc.root"
   ]
  },
  {
   "cell_type": "markdown",
   "id": "13a15c7b-08cb-4f71-9db1-e9ca0584d10d",
   "metadata": {},
   "source": [
    "# Let's start the exercise!\n",
    "Open the file with `uproot` and convert the tree to a `pandas` dataframe.\n",
    "\n",
    "We will start using the `BulkGravTohh` signal file but you can repeat the exercise with a different signal later."
   ]
  },
  {
   "cell_type": "code",
   "execution_count": null,
   "id": "2a1ccc02-02ec-4762-9a78-63fca15999da",
   "metadata": {},
   "outputs": [],
   "source": [
    "import uproot\n",
    "\n",
    "filename_hh = 'root://cmseos.fnal.gov//store/user/cmsdas/2024/short_exercises/tagging/BulkGravTohh_tree_noc.root'\n",
    "filename_qcd = 'root://cmseos.fnal.gov//store/user/cmsdas/2024/short_exercises/tagging/qcd-pythia_tree_SLIM.root'\n",
    "\n",
    "uptree_hh = uproot.open(filename_hh)[\"Friends\"]\n",
    "uptree_qcd = uproot.open(filename_qcd)[\"Friends\"]\n",
    "\n",
    "branches = ['ak8_nn_HbbvsQCD',            # tagger DeepAK8\n",
    "            'ak8_decorr_nn_ZHbbvsQCD',    # tagger DeepAK8-MD\n",
    "            'ak8_doubleb',                # tagger\n",
    "            'ak8_tau21',                  # tagger\n",
    "            'ak8_ecfN2',                  # tagger\n",
    "            'ak8_bestH',                  # tagger\n",
    "            'ak8_sdmass',                 # tagger\n",
    "            'ak8_pt',\n",
    "            'ak8_eta',\n",
    "            'gen_pt',\n",
    "            'gen_eta']\n",
    "\n",
    "\n",
    "print(\"get hh\")\n",
    "df_hh = uptree_hh.arrays(branches+['rewgt'], library=\"pd\")\n",
    "# print(df_hh)\n",
    "\n",
    "print(\"get QCD\")\n",
    "df_qcd = uptree_qcd.arrays(branches+['genweight'], library=\"pd\")\n",
    "# print(df_qcd)"
   ]
  },
  {
   "cell_type": "markdown",
   "id": "cdcb18f0-f964-4e3d-818d-b9a9aadc4542",
   "metadata": {},
   "source": [
    "# Apply basic selections"
   ]
  },
  {
   "cell_type": "code",
   "execution_count": null,
   "id": "744268e1-aa09-486f-848f-2b8383e8a7a6",
   "metadata": {},
   "outputs": [],
   "source": [
    "import pandas\n",
    "import numpy as np\n",
    "\n",
    "# mask higgs outside of fiducial cuts\n",
    "mask_hh = (df_hh['gen_pt'] > 1000) & (df_hh['gen_pt'] < 1500) & (np.abs(df_hh['gen_eta']) < 2.4) & (df_hh['ak8_sdmass'] > 40) & (df_hh['ak8_sdmass'] < 200)\n",
    "df_hh = df_hh[mask_hh]\n",
    "df_hh['sample_weight'] = df_hh['rewgt']\n",
    "df_hh['label'] = np.ones((len(df_hh)),dtype=int)\n",
    "\n",
    "# mask qcd outside of fiducial cuts\n",
    "mask_qcd = (df_qcd['gen_pt'] > 1000) & (df_qcd['gen_pt'] < 1500) & (np.abs(df_qcd['gen_eta']) < 2.4) & (df_qcd['ak8_sdmass'] > 40) & (df_qcd['ak8_sdmass'] < 200)\n",
    "df_qcd = df_qcd[mask_qcd]\n",
    "df_qcd['sample_weight'] = df_qcd['genweight']\n",
    "df_qcd['label'] = np.zeros((len(df_qcd)),dtype=int)"
   ]
  },
  {
   "cell_type": "markdown",
   "id": "a9ba3c88-336c-44b5-82b9-7acf79bb4603",
   "metadata": {},
   "source": [
    "# Let's plot the taggers for QCD and signal"
   ]
  },
  {
   "cell_type": "code",
   "execution_count": null,
   "id": "b19b923e-e804-43e9-a577-a809e75200b0",
   "metadata": {},
   "outputs": [],
   "source": [
    "import matplotlib.pyplot as plt\n",
    "\n",
    "plt.hist(df_hh['ak8_nn_HbbvsQCD'], bins=50, alpha=0.7, label='hh', histtype='step')\n",
    "plt.hist(df_qcd['ak8_nn_HbbvsQCD'], bins=50, alpha=0.7, label='qcd', histtype='step')\n",
    "plt.xlabel('ak8_nn_HbbvsQCD')\n",
    "plt.yscale('log')\n",
    "plt.legend()\n",
    "plt.show()\n"
   ]
  },
  {
   "cell_type": "markdown",
   "id": "3197d007-12ce-4623-9b3e-d6c9b2a65544",
   "metadata": {},
   "source": [
    "# Concatenate signal and background\n",
    "This is needed in the following"
   ]
  },
  {
   "cell_type": "code",
   "execution_count": null,
   "id": "2e280173-c1a7-4046-9706-a4373a9f8d9f",
   "metadata": {},
   "outputs": [],
   "source": [
    "df = pandas.concat([df_hh,df_qcd])\n",
    "\n",
    "df"
   ]
  },
  {
   "cell_type": "markdown",
   "id": "24cf9fef-c6bb-4bab-bdf1-c16733e5bea4",
   "metadata": {},
   "source": [
    "# Tagger performance\n",
    "\n",
    "Plot the ROC and calculate the area under it for one of the tagging variables. We'll plot the true-positive rate (TPR) vs. the false-positive rate (FPR)."
   ]
  },
  {
   "cell_type": "code",
   "execution_count": null,
   "id": "b99cfba3-af21-479f-990e-a7f2e090df84",
   "metadata": {},
   "outputs": [],
   "source": [
    "import matplotlib.pyplot as plt\n",
    "from sklearn.metrics import roc_curve, auc\n",
    "%matplotlib inline\n",
    "fpr = {}\n",
    "tpr = {}\n",
    "threshold = {}\n",
    "plt.figure()\n",
    "\n",
    "tagger = 'ak8_sdmass'\n",
    "fpr[tagger], tpr[tagger], threshold[tagger] = roc_curve(df['label'], df[tagger], sample_weight=df['sample_weight'])\n",
    "myauc = auc(fpr[tagger], tpr[tagger]) #,reorder=True)\n",
    "plt.plot(tpr[tagger],fpr[tagger],label='%s tagger, AUC = %.3f'%(tagger, myauc))\n",
    "\n",
    "plt.legend(loc='best')\n",
    "plt.semilogy()\n",
    "plt.xlim([0, 1])\n",
    "plt.ylim([1e-4, 1])\n",
    "plt.xlabel(\"TPR\");\n",
    "plt.ylabel(\"FPR\");"
   ]
  },
  {
   "cell_type": "markdown",
   "id": "7315922f-2203-4a31-a072-0a3d2092ca98",
   "metadata": {},
   "source": [
    "# Train your own tagger"
   ]
  },
  {
   "cell_type": "code",
   "execution_count": null,
   "id": "48d5e6fc-7fb4-4109-93cb-9c58f7d71eea",
   "metadata": {},
   "outputs": [],
   "source": [
    "import keras\n",
    "from keras.models import Model\n",
    "from keras.layers import Input, Activation, Dense\n",
    "import numpy as np\n",
    "\n",
    "inputs = Input(shape=(2,), name = 'input')  \n",
    "x = Dense(5, name = 'dense_1', activation = 'relu')(inputs)\n",
    "outputs = Dense(1, name = 'output', activation='sigmoid')(x)\n",
    "\n",
    "# create the model\n",
    "model = Model(inputs=inputs, outputs=outputs)\n",
    "# compile the model\n",
    "model.compile(optimizer='adam', loss='binary_crossentropy', metrics=['accuracy'])\n",
    "# print the model summary\n",
    "model.summary()\n",
    "\n",
    "\n",
    "### IGNORE THE RED WARNINGS!!!!"
   ]
  },
  {
   "cell_type": "code",
   "execution_count": null,
   "id": "07ebabe3-dad4-4cab-b364-570ee00c0d4c",
   "metadata": {},
   "outputs": [],
   "source": [
    "x = np.vstack([df['ak8_sdmass'], df['ak8_tau21']]).T\n",
    "print(x.shape)\n",
    "y = df['label']\n",
    "print(y.shape)\n",
    "model.fit(x,y, epochs=1)\n",
    "df['ak8_sdmass_tau21'] = model.predict(x)"
   ]
  },
  {
   "cell_type": "code",
   "execution_count": null,
   "id": "c663b20e-5ab5-4480-9b24-4b9c45263d0f",
   "metadata": {},
   "outputs": [],
   "source": [
    "# now plot the ROC curve and calculate the AUC for this new ak8_sdmass_tau21 tagger"
   ]
  },
  {
   "cell_type": "markdown",
   "id": "fd7552f3-2022-4e74-82e1-fca9d16868bd",
   "metadata": {},
   "source": [
    "# Exercises\n",
    "\n",
    "- Exercise 1: Plot all of the taggers on the same ROC curve\n",
    "- Exercise 2 [done above, feel free to improve/play around]: Train your own custom \"traditional\" tagger based on mSD and tau21\n",
    "- Exercise 3: Add your tagger to the ROC curve\n",
    "- Exercise 4: Repeat with a different signal sample (W, Z, or top)\n",
    "- Exercise 5 [advanced]: Understand the impact of different sets of inputs in the jet classification problem\n",
    "- Exercise 6 [extra]: Look at the 'ak8_sdmass' distribution of signal and background after applying different cuts on the other taggers. Thoughts, ideas, concerns ?"
   ]
  },
  {
   "cell_type": "code",
   "execution_count": null,
   "id": "b150cc31-d82a-40c4-885f-bb9c1393ba32",
   "metadata": {},
   "outputs": [],
   "source": []
  }
 ],
 "metadata": {
  "kernelspec": {
   "display_name": "Python 3 (Safe Mode)",
   "language": "python",
   "name": "py3-safemode"
  },
  "language_info": {
   "codemirror_mode": {
    "name": "ipython",
    "version": 3
   },
   "file_extension": ".py",
   "mimetype": "text/x-python",
   "name": "python",
   "nbconvert_exporter": "python",
   "pygments_lexer": "ipython3",
   "version": "3.10.16"
  }
 },
 "nbformat": 4,
 "nbformat_minor": 5
}
